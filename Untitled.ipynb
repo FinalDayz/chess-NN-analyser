{
 "cells": [
  {
   "cell_type": "code",
   "execution_count": 5,
   "id": "a3137b42-073b-4339-9e4b-d73ecb8bca5f",
   "metadata": {},
   "outputs": [],
   "source": [
    "import numpy as np\n",
    "import tensorflow as tf\n",
    "from tensorflow.keras.models import Model\n",
    "from tensorflow.keras.layers import Input, Dense\n",
    "from tensorflow.keras import callbacks\n",
    "import ipywidgets as widgets\n",
    "from IPython.display import display\n",
    "from tensorflow.keras.optimizers import Adam\n",
    "import time"
   ]
  },
  {
   "cell_type": "code",
   "execution_count": 6,
   "id": "34bd2770-f1f7-4a5c-bbcf-04ef7e4b3e0c",
   "metadata": {},
   "outputs": [],
   "source": [
    "import os\n",
    "os.environ['CUDA_VISIBLE_DEVICES'] = '-1'\n",
    "os.environ[\"CUDA_DEVICE_ORDER\"] = \"PCI_BUS_ID\"   # see issue #152\n",
    "os.environ[\"CUDA_VISIBLE_DEVICES\"] = \"\""
   ]
  },
  {
   "cell_type": "code",
   "execution_count": 7,
   "id": "57e0e57b-f569-498b-8ea2-38df1c3edfdc",
   "metadata": {},
   "outputs": [],
   "source": [
    "# Step 2: Prepare the data (binary combinations of two bits)\n",
    "#input_data = np.array([[0, 0], [0, 1], [1, 0], [1, 1]])\n",
    "#input_data = np.array([[0, 0, 0], [0, 0, 1], [0, 1, 0], [0, 1, 1], [1, 0, 0], [1, 0, 1], [1, 1, 0], [1, 1, 1]])\n",
    "input_data = np.array([[0, 0, 0, 0], [0, 0, 0, 1], [0, 0, 1, 0], [0, 0, 1, 1], [0, 1, 0, 0], [0, 1, 0, 1], [0, 1, 1, 0], [0, 1, 1, 1], \n",
    "                      [1, 0, 0, 0], [1, 0, 0, 1], [1, 0, 1, 0], [1, 0, 1, 1], [1, 1, 0, 0], [1, 1, 0, 1], [1, 1, 1, 0], [1, 1, 1, 1] ])\n",
    "output_data = input_data.copy()"
   ]
  },
  {
   "cell_type": "code",
   "execution_count": 29,
   "id": "011b497c-313b-4577-9cee-92561f9bf724",
   "metadata": {},
   "outputs": [],
   "source": [
    "# Step 3: Define and Train the Encoder-Decoder model\n",
    "input_layer = Input(shape=(4,))\n",
    "hidden_encoder = Dense(100, activation='tanh')(input_layer)\n",
    "hidden_encoder2 = Dense(10, activation='tanh')(hidden_encoder)\n",
    "latent_layer = Dense(1, activation='tanh')(hidden_encoder2)  # Latent space with 2 bits"
   ]
  },
  {
   "cell_type": "code",
   "execution_count": 31,
   "id": "cdecde10-981a-42b8-869b-e613bc279ba4",
   "metadata": {},
   "outputs": [],
   "source": [
    "# Decoder: Latent space -> Hidden layer -> Output (2 bits)\n",
    "hidden_decoder = Dense(100, activation='tanh')(latent_layer)\n",
    "hidden_decoder2 = Dense(100, activation='tanh')(hidden_decoder)\n",
    "output_layer = Dense(4, activation='sigmoid')(hidden_decoder2)"
   ]
  },
  {
   "cell_type": "code",
   "execution_count": 76,
   "id": "73266aca-ddee-400b-b1a0-46df0c2276e2",
   "metadata": {},
   "outputs": [],
   "source": [
    "# Full model: Encoder + Decoder\n",
    "autoencoder = Model(inputs=input_layer, outputs=output_layer)\n",
    "optimizer = Adam(\n",
    "    learning_rate=0.0007\n",
    ")\n",
    "autoencoder.compile(optimizer=optimizer, loss='mse')\n"
   ]
  },
  {
   "cell_type": "code",
   "execution_count": 79,
   "id": "92724506-1082-476a-9e9c-a022d62d8599",
   "metadata": {
    "editable": true,
    "slideshow": {
     "slide_type": ""
    },
    "tags": []
   },
   "outputs": [
    {
     "name": "stdout",
     "output_type": "stream",
     "text": [
      "0 Loss:: 0.015627624467015266\n",
      "1 Loss:: 0.01562754064798355\n",
      "2 Loss:: 0.015627404674887657\n",
      "3 Loss:: 0.015627311542630196\n",
      "4 Loss:: 0.01562722958624363\n",
      "5 Loss:: 0.01562715321779251\n",
      "6 Loss:: 0.015627071261405945\n",
      "7 Loss:: 0.015626976266503334\n",
      "8 Loss:: 0.015626925975084305\n",
      "9 Loss:: 0.015626858919858932\n",
      "10 Loss:: 0.015626776963472366\n",
      "11 Loss:: 0.0156266987323761\n",
      "12 Loss:: 0.015626657754182816\n",
      "13 Loss:: 0.015626583248376846\n",
      "14 Loss:: 0.015626532956957817\n",
      "15 Loss:: 0.015626508742570877\n",
      "16 Loss:: 0.015626410022377968\n",
      "17 Loss:: 0.015626363456249237\n",
      "18 Loss:: 0.015626348555088043\n",
      "19 Loss:: 0.015626270323991776\n",
      "20 Loss:: 0.015626242384314537\n",
      "21 Loss:: 0.01562618464231491\n",
      "22 Loss:: 0.015626145526766777\n",
      "23 Loss:: 0.01562613435089588\n",
      "24 Loss:: 0.015626074746251106\n",
      "25 Loss:: 0.015626046806573868\n",
      "26 Loss:: 0.015626011416316032\n",
      "27 Loss:: 0.015625977888703346\n",
      "28 Loss:: 0.015625953674316406\n",
      "29 Loss:: 0.015625908970832825\n",
      "30 Loss:: 0.015625886619091034\n",
      "31 Loss:: 0.015625877305865288\n",
      "32 Loss:: 0.015625830739736557\n",
      "33 Loss:: 0.015625808387994766\n",
      "34 Loss:: 0.01562577672302723\n",
      "35 Loss:: 0.01562575437128544\n",
      "36 Loss:: 0.015625739470124245\n",
      "37 Loss:: 0.015625707805156708\n",
      "38 Loss:: 0.01562570035457611\n",
      "39 Loss:: 0.015625672414898872\n",
      "40 Loss:: 0.01562565565109253\n",
      "41 Loss:: 0.015625644475221634\n",
      "42 Loss:: 0.015625620260834694\n",
      "43 Loss:: 0.01562560722231865\n",
      "44 Loss:: 0.015625586733222008\n",
      "45 Loss:: 0.015625614672899246\n",
      "46 Loss:: 0.015625566244125366\n",
      "47 Loss:: 0.015625540167093277\n",
      "48 Loss:: 0.015625568106770515\n",
      "49 Loss:: 0.015625514090061188\n",
      "50 Loss:: 0.01562550850212574\n",
      "51 Loss:: 0.015625493600964546\n",
      "52 Loss:: 0.015625474974513054\n",
      "53 Loss:: 0.01562546193599701\n",
      "54 Loss:: 0.015625450760126114\n",
      "55 Loss:: 0.01562543585896492\n",
      "56 Loss:: 0.015625428408384323\n",
      "57 Loss:: 0.015625419095158577\n",
      "58 Loss:: 0.015625404193997383\n",
      "59 Loss:: 0.015625398606061935\n",
      "that took: 33.96858048439026 seconds\n"
     ]
    }
   ],
   "source": [
    "#with tf.device('/cpu:0'):\n",
    "start = time.time()\n",
    "\n",
    "for i in range(60):\n",
    "    history = autoencoder.fit(input_data, output_data, epochs=100, verbose=0)\n",
    "    print(i, 'Loss::', history.history['loss'][-1])\n",
    "\n",
    "end = time.time()\n",
    "print('that took:',end - start,'seconds')"
   ]
  },
  {
   "cell_type": "code",
   "execution_count": 78,
   "id": "a15df21d-c17a-4be6-a601-aab7860d8b29",
   "metadata": {},
   "outputs": [
    {
     "name": "stdout",
     "output_type": "stream",
     "text": [
      "1/1 [==============================] - 0s 85ms/step\n",
      "[[2.5941259e-03 9.1997850e-13 2.2523889e-05 9.8228302e-05]\n",
      " [3.8866996e-04 1.1601682e-03 8.7196700e-04 1.0000000e+00]\n",
      " [4.3331599e-03 3.8355396e-03 9.9999940e-01 1.2166409e-09]\n",
      " [1.0299158e-03 7.2841153e-06 9.9934095e-01 1.0000000e+00]\n",
      " [3.4422250e-03 1.0000000e+00 2.1558903e-07 1.5757685e-10]\n",
      " [1.9158288e-04 9.9872953e-01 1.4072855e-03 1.0000000e+00]\n",
      " [2.6305253e-03 9.9625552e-01 9.9999952e-01 6.1071270e-10]\n",
      " [8.9590327e-04 9.9960583e-01 9.9958199e-01 1.0000000e+00]\n",
      " [9.9731940e-01 3.0098569e-11 2.5142927e-03 3.0462004e-08]\n",
      " [9.9999154e-01 6.0879963e-04 5.2285386e-04 1.0000000e+00]\n",
      " [9.9641538e-01 1.3588404e-10 9.9774677e-01 3.2255751e-09]\n",
      " [9.9910080e-01 1.0261533e-03 9.9952364e-01 1.0000000e+00]\n",
      " [9.9664646e-01 1.0000000e+00 4.2785867e-03 2.2142485e-10]\n",
      " [9.9972624e-01 1.4741452e-12 1.2174945e-06 9.9992085e-01]\n",
      " [9.9659121e-01 9.9999559e-01 9.9605381e-01 3.6367925e-10]\n",
      " [9.9990034e-01 9.9891710e-01 9.9913210e-01 1.0000000e+00]]\n",
      "Input: [0 0 0 0], Predicted output: [0. 0. 0. 0.]\n",
      "Input: [0 0 0 1], Predicted output: [0. 0. 0. 1.]\n",
      "Input: [0 0 1 0], Predicted output: [0. 0. 1. 0.]\n",
      "Input: [0 0 1 1], Predicted output: [0. 0. 1. 1.]\n",
      "Input: [0 1 0 0], Predicted output: [0. 1. 0. 0.]\n",
      "Input: [0 1 0 1], Predicted output: [0. 1. 0. 1.]\n",
      "Input: [0 1 1 0], Predicted output: [0. 1. 1. 0.]\n",
      "Input: [0 1 1 1], Predicted output: [0. 1. 1. 1.]\n",
      "Input: [1 0 0 0], Predicted output: [1. 0. 0. 0.]\n",
      "Input: [1 0 0 1], Predicted output: [1. 0. 0. 1.]\n",
      "Input: [1 0 1 0], Predicted output: [1. 0. 1. 0.]\n",
      "Input: [1 0 1 1], Predicted output: [1. 0. 1. 1.]\n",
      "Input: [1 1 0 0], Predicted output: [1. 1. 0. 0.]\n",
      "Input: [1 1 0 1], Predicted output: [1. 0. 0. 1.]\n",
      "Input: [1 1 1 0], Predicted output: [1. 1. 1. 0.]\n",
      "Input: [1 1 1 1], Predicted output: [1. 1. 1. 1.]\n"
     ]
    }
   ],
   "source": [
    "predictions = autoencoder.predict(input_data)\n",
    "print(predictions)\n",
    "for i, input_example in enumerate(input_data):\n",
    "    print(f\"Input: {input_example}, Predicted output: {np.round(predictions[i])}\")"
   ]
  },
  {
   "cell_type": "code",
   "execution_count": 45,
   "id": "18d50636-f70b-4e26-8ad0-8aea59b8b576",
   "metadata": {},
   "outputs": [],
   "source": [
    "encoder = Model(inputs=input_layer, outputs=latent_layer)\n"
   ]
  },
  {
   "cell_type": "code",
   "execution_count": 54,
   "id": "38134315-2445-42e8-8ee5-c9bbce140d6e",
   "metadata": {},
   "outputs": [],
   "source": [
    "latent_input = Input(shape=(1,))\n",
    "decoder_hidden = autoencoder.layers[-3](latent_input)  # The hidden decoder layer\n",
    "decoder_hidden2 = autoencoder.layers[-2](decoder_hidden)  # The hidden decoder layer\n",
    "decoder_output = autoencoder.layers[-1](decoder_hidden2)  # The output decoder layer\n",
    "decoder = Model(inputs=latent_input, outputs=decoder_output)\n"
   ]
  },
  {
   "cell_type": "code",
   "execution_count": 9,
   "id": "8d89b7ed-ff32-44e3-8615-16849b1c24aa",
   "metadata": {},
   "outputs": [
    {
     "name": "stdout",
     "output_type": "stream",
     "text": [
      "Input -> Latent Space -> Reconstructed Output\n",
      "[[0 0 0 0]]\n"
     ]
    },
    {
     "ename": "NameError",
     "evalue": "name 'encoder' is not defined",
     "output_type": "error",
     "traceback": [
      "\u001b[1;31m---------------------------------------------------------------------------\u001b[0m",
      "\u001b[1;31mNameError\u001b[0m                                 Traceback (most recent call last)",
      "\u001b[1;32m~\\AppData\\Local\\Temp/ipykernel_16816/4238427312.py\u001b[0m in \u001b[0;36m<module>\u001b[1;34m\u001b[0m\n\u001b[0;32m      3\u001b[0m     \u001b[1;31m# Get latent space value\u001b[0m\u001b[1;33m\u001b[0m\u001b[1;33m\u001b[0m\u001b[1;33m\u001b[0m\u001b[0m\n\u001b[0;32m      4\u001b[0m     \u001b[0mprint\u001b[0m\u001b[1;33m(\u001b[0m\u001b[0mnp\u001b[0m\u001b[1;33m.\u001b[0m\u001b[0marray\u001b[0m\u001b[1;33m(\u001b[0m\u001b[1;33m[\u001b[0m\u001b[0minput_example\u001b[0m\u001b[1;33m]\u001b[0m\u001b[1;33m)\u001b[0m\u001b[1;33m)\u001b[0m\u001b[1;33m\u001b[0m\u001b[1;33m\u001b[0m\u001b[0m\n\u001b[1;32m----> 5\u001b[1;33m     \u001b[0mlatent_values\u001b[0m \u001b[1;33m=\u001b[0m \u001b[0mencoder\u001b[0m\u001b[1;33m.\u001b[0m\u001b[0mpredict\u001b[0m\u001b[1;33m(\u001b[0m\u001b[0mnp\u001b[0m\u001b[1;33m.\u001b[0m\u001b[0marray\u001b[0m\u001b[1;33m(\u001b[0m\u001b[1;33m[\u001b[0m\u001b[0minput_example\u001b[0m\u001b[1;33m]\u001b[0m\u001b[1;33m)\u001b[0m\u001b[1;33m)\u001b[0m\u001b[1;33m\u001b[0m\u001b[1;33m\u001b[0m\u001b[0m\n\u001b[0m\u001b[0;32m      6\u001b[0m \u001b[1;33m\u001b[0m\u001b[0m\n\u001b[0;32m      7\u001b[0m     \u001b[1;31m# Get reconstructed output\u001b[0m\u001b[1;33m\u001b[0m\u001b[1;33m\u001b[0m\u001b[1;33m\u001b[0m\u001b[0m\n",
      "\u001b[1;31mNameError\u001b[0m: name 'encoder' is not defined"
     ]
    }
   ],
   "source": [
    "\n",
    "print(\"Input -> Latent Space -> Reconstructed Output\")\n",
    "for i, input_example in enumerate(input_data):\n",
    "    # Get latent space value\n",
    "    print(np.array([input_example]))\n",
    "    latent_values = encoder.predict(np.array([input_example]))\n",
    "    \n",
    "    # Get reconstructed output\n",
    "    reconstructed_output = decoder.predict(latent_values)\n",
    "    \n",
    "    # Print the result\n",
    "    print(f\"Input: {input_example}, Latent Space: {latent_values[0]}, Reconstructed Output: {np.round(reconstructed_output[0])}\")"
   ]
  },
  {
   "cell_type": "code",
   "execution_count": 56,
   "id": "2471a515-1ecf-40b5-bff8-397adb1d5031",
   "metadata": {},
   "outputs": [],
   "source": [
    "latent_slider1 = widgets.FloatSlider(value=0.0, min=-1, max=1, step=0.004, description='Latent 1', layout=widgets.Layout(width='800px'))\n",
    "#latent_slider2 = widgets.FloatSlider(value=0.0, min=-2.0, max=2.0, step=0.01, description='Latent 2')\n"
   ]
  },
  {
   "cell_type": "code",
   "execution_count": 57,
   "id": "5785aa3f-3111-47a4-bcbf-3fed7dee9bed",
   "metadata": {},
   "outputs": [],
   "source": [
    "output_display = widgets.Output()\n"
   ]
  },
  {
   "cell_type": "code",
   "execution_count": 58,
   "id": "1909dfec-75d7-4c6f-b718-f76bad8c68ad",
   "metadata": {},
   "outputs": [],
   "source": [
    "def update_output(change=None):\n",
    "    #latent_values = np.array([[latent_slider1.value, latent_slider2.value]])\n",
    "    latent_values = np.array([[latent_slider1.value]])\n",
    "    predicted_output = decoder.predict(latent_values)\n",
    "    with output_display:\n",
    "        output_display.clear_output(wait=True)\n",
    "        print(f\"Latent space: {latent_values}\")\n",
    "        print(f\"Decoded output: {np.round(predicted_output, 2)}\")\n"
   ]
  },
  {
   "cell_type": "code",
   "execution_count": 59,
   "id": "4478345d-0d24-4706-8d93-3dd6ed036301",
   "metadata": {},
   "outputs": [],
   "source": [
    "latent_slider1.observe(update_output, names='value')\n",
    "#latent_slider2.observe(update_output, names='value')"
   ]
  },
  {
   "cell_type": "code",
   "execution_count": 60,
   "id": "d4c23686-9e53-4f7d-a9ed-e804b517de06",
   "metadata": {},
   "outputs": [
    {
     "data": {
      "application/vnd.jupyter.widget-view+json": {
       "model_id": "f2c434847850405689cbe1cfbc8bd4f2",
       "version_major": 2,
       "version_minor": 0
      },
      "text/plain": [
       "FloatSlider(value=0.0, description='Latent 1', layout=Layout(width='800px'), max=1.0, min=-1.0, step=0.004)"
      ]
     },
     "metadata": {},
     "output_type": "display_data"
    },
    {
     "data": {
      "application/vnd.jupyter.widget-view+json": {
       "model_id": "ff8b70a6058c4ff993b9a1e76e50ce27",
       "version_major": 2,
       "version_minor": 0
      },
      "text/plain": [
       "Output()"
      ]
     },
     "metadata": {},
     "output_type": "display_data"
    }
   ],
   "source": [
    "display(latent_slider1, output_display)\n",
    "#display(latent_slider1, latent_slider2, output_display)\n"
   ]
  },
  {
   "cell_type": "code",
   "execution_count": 61,
   "id": "d1e9210d-82c7-41ac-b352-ee1d9aace047",
   "metadata": {},
   "outputs": [
    {
     "name": "stdout",
     "output_type": "stream",
     "text": [
      "1/1 [==============================] - 0s 18ms/step\n"
     ]
    }
   ],
   "source": [
    "update_output()\n"
   ]
  },
  {
   "cell_type": "code",
   "execution_count": null,
   "id": "71ff0a42-1d61-4ec9-869d-fa7ad7a67ea0",
   "metadata": {},
   "outputs": [],
   "source": []
  },
  {
   "cell_type": "code",
   "execution_count": null,
   "id": "1be0f956-a72b-4444-8628-d926dcf915c8",
   "metadata": {},
   "outputs": [],
   "source": []
  },
  {
   "cell_type": "code",
   "execution_count": null,
   "id": "3aa71867-f97c-493f-b165-d0e1157e90fd",
   "metadata": {},
   "outputs": [],
   "source": []
  },
  {
   "cell_type": "code",
   "execution_count": null,
   "id": "6a84477e-2a81-4006-bc8a-6198c1b7950a",
   "metadata": {},
   "outputs": [],
   "source": []
  }
 ],
 "metadata": {
  "kernelspec": {
   "display_name": "Python 3 (ipykernel)",
   "language": "python",
   "name": "python3"
  },
  "language_info": {
   "codemirror_mode": {
    "name": "ipython",
    "version": 3
   },
   "file_extension": ".py",
   "mimetype": "text/x-python",
   "name": "python",
   "nbconvert_exporter": "python",
   "pygments_lexer": "ipython3",
   "version": "3.10.4"
  }
 },
 "nbformat": 4,
 "nbformat_minor": 5
}
