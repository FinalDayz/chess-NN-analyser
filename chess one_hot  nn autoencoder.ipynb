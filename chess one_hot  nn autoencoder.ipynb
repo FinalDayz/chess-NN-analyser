{
 "cells": [
  {
   "cell_type": "code",
   "execution_count": 1,
   "id": "a3137b42-073b-4339-9e4b-d73ecb8bca5f",
   "metadata": {},
   "outputs": [],
   "source": [
    "import numpy as np\n",
    "import tensorflow as tf\n",
    "from tensorflow import keras\n",
    "from tensorflow.keras.models import Model\n",
    "from tensorflow.keras.layers import Input, Dense\n",
    "from tensorflow.keras import callbacks\n",
    "import ipywidgets as widgets\n",
    "from IPython.display import display\n",
    "from tensorflow.keras.optimizers import Adam\n",
    "import time\n",
    "from keras import regularizers"
   ]
  },
  {
   "cell_type": "code",
   "execution_count": 2,
   "id": "ca6ea5e0-be5d-48c5-a90c-3ba408dfe616",
   "metadata": {},
   "outputs": [],
   "source": [
    "DATA_INPUT_FILE = 'lichessParser/bitBoard.npy'\n",
    "BATCH_SIZE = 4096  # Define the batch size"
   ]
  },
  {
   "cell_type": "code",
   "execution_count": 3,
   "id": "c55dbe40-49e2-4d4c-86a4-1f1e4bd357a5",
   "metadata": {},
   "outputs": [
    {
     "name": "stdout",
     "output_type": "stream",
     "text": [
      "loading\n",
      "items loaded:  2 000 000\n",
      "processing data\n",
      "Done\n"
     ]
    }
   ],
   "source": [
    "def numStr(num):\n",
    "    return '{:,}'.format(\n",
    "        np.round(num, 6)\n",
    "    ).replace(',', ' ')\n",
    "\n",
    "print('loading')\n",
    "mapped_array = np.load(DATA_INPUT_FILE)[:2_000_000]\n",
    "\n",
    "print('items loaded: ', numStr(mapped_array.shape[0]))\n",
    "\n",
    "print('processing data')\n",
    "mapped_array = np.unpackbits(\n",
    "    mapped_array.view(np.uint8),\n",
    "    bitorder='little',\n",
    "    axis=1\n",
    ").view(bool)[:, :773]\n",
    "\n",
    "print('Done')"
   ]
  },
  {
   "cell_type": "code",
   "execution_count": 4,
   "id": "fd1b918c-791e-4e44-ad26-19c4afeb63b1",
   "metadata": {
    "editable": true,
    "slideshow": {
     "slide_type": ""
    },
    "tags": []
   },
   "outputs": [
    {
     "name": "stdout",
     "output_type": "stream",
     "text": [
      "2000000\n",
      "1.4398247003555298 GiB\n"
     ]
    }
   ],
   "source": [
    "from sys import getsizeof\n",
    "\n",
    "print(len(mapped_array))\n",
    "print(mapped_array.nbytes / 1024/ 1024/ 1024, 'GiB')\n"
   ]
  },
  {
   "cell_type": "code",
   "execution_count": 5,
   "id": "011b497c-313b-4577-9cee-92561f9bf724",
   "metadata": {},
   "outputs": [],
   "source": [
    "# Step 3: Define and Train the Encoder-Decoder model\n",
    "my_regularizer = regularizers.l1(10e-8)\n",
    "\n",
    "input_layer = Input(shape=(773,), dtype=bool) # 12*64+5\n",
    "hidden_encoder = Dense(8000, activation='relu')(input_layer)\n",
    "hidden_encoder2 = Dense(2000, activation='relu')(hidden_encoder)\n",
    "\n",
    "latent_layer = Dense(10,\n",
    "                     activation='relu', \n",
    "                     #activity_regularizer=my_regularizer\n",
    "                    )(hidden_encoder2)\n",
    "\n",
    "hidden_decoder = Dense(2000, activation='relu')(latent_layer)\n",
    "hidden_decoder2 = Dense(8000, activation='relu')(hidden_decoder)\n",
    "output_layer = Dense(773, activation='sigmoid')(hidden_decoder2)"
   ]
  },
  {
   "cell_type": "code",
   "execution_count": 6,
   "id": "73266aca-ddee-400b-b1a0-46df0c2276e2",
   "metadata": {},
   "outputs": [
    {
     "name": "stdout",
     "output_type": "stream",
     "text": [
      "Model: \"model\"\n",
      "_________________________________________________________________\n",
      " Layer (type)                Output Shape              Param #   \n",
      "=================================================================\n",
      " input_1 (InputLayer)        [(None, 773)]             0         \n",
      "                                                                 \n",
      " dense (Dense)               (None, 8000)              6192000   \n",
      "                                                                 \n",
      " dense_1 (Dense)             (None, 2000)              16002000  \n",
      "                                                                 \n",
      " dense_2 (Dense)             (None, 10)                20010     \n",
      "                                                                 \n",
      " dense_3 (Dense)             (None, 2000)              22000     \n",
      "                                                                 \n",
      " dense_4 (Dense)             (None, 8000)              16008000  \n",
      "                                                                 \n",
      " dense_5 (Dense)             (None, 773)               6184773   \n",
      "                                                                 \n",
      "=================================================================\n",
      "Total params: 44,428,783\n",
      "Trainable params: 44,428,783\n",
      "Non-trainable params: 0\n",
      "_________________________________________________________________\n",
      "None\n"
     ]
    }
   ],
   "source": [
    "# Full model: Encoder + Decoder\n",
    "autoencoder = Model(inputs=input_layer, outputs=output_layer)\n",
    "optimizer = Adam(\n",
    "    learning_rate=0.00001\n",
    ")\n",
    "autoencoder.compile(\n",
    "    optimizer=optimizer,\n",
    "   # loss='mse'\n",
    "    #loss=keras.losses.MeanAbsoluteError(),\n",
    "    loss='binary_crossentropy'\n",
    ")\n",
    "print(autoencoder.summary())"
   ]
  },
  {
   "cell_type": "code",
   "execution_count": 11,
   "id": "89aefd7c-5a35-4b1c-9cf6-16f8cb992a2d",
   "metadata": {},
   "outputs": [
    {
     "name": "stdout",
     "output_type": "stream",
     "text": [
      "Epoch 1/5\n",
      "62500/62500 [==============================] - 405s 6ms/step - loss: 0.0328\n",
      "Epoch 2/5\n",
      "62500/62500 [==============================] - 405s 6ms/step - loss: 0.0317\n",
      "Epoch 3/5\n",
      "62500/62500 [==============================] - 405s 6ms/step - loss: 0.0307\n",
      "Epoch 4/5\n",
      "62500/62500 [==============================] - 405s 6ms/step - loss: 0.0298\n",
      "Epoch 5/5\n",
      "62500/62500 [==============================] - 424s 7ms/step - loss: 0.0290\n"
     ]
    }
   ],
   "source": [
    "history = autoencoder.fit(mapped_array, mapped_array, epochs=5)"
   ]
  },
  {
   "cell_type": "code",
   "execution_count": 8,
   "id": "2a90ced2-65b6-41cc-b448-54356c096699",
   "metadata": {
    "editable": true,
    "slideshow": {
     "slide_type": ""
    },
    "tags": []
   },
   "outputs": [
    {
     "name": "stdout",
     "output_type": "stream",
     "text": [
      "[0.050542719662189484, 0.04181637242436409, 0.03842030093073845, 0.03600088879466057, 0.03416614979505539]\n"
     ]
    }
   ],
   "source": [
    "print(history.history['loss'])"
   ]
  },
  {
   "cell_type": "code",
   "execution_count": 9,
   "id": "92724506-1082-476a-9e9c-a022d62d8599",
   "metadata": {},
   "outputs": [
    {
     "ename": "SyntaxError",
     "evalue": "invalid syntax (3694420279.py, line 3)",
     "output_type": "error",
     "traceback": [
      "\u001b[1;36m  Cell \u001b[1;32mIn[9], line 3\u001b[1;36m\u001b[0m\n\u001b[1;33m    epoch=1  LR=0.00001  loss=\u001b[0m\n\u001b[1;37m             ^\u001b[0m\n\u001b[1;31mSyntaxError\u001b[0m\u001b[1;31m:\u001b[0m invalid syntax\n"
     ]
    }
   ],
   "source": [
    "# loss=binary_crossentropy\n",
    "# struct: 8k[relu] -> 2k[relu] -> 100[relu] \n",
    "epoch=1  LR=0.00001  loss= 0.05 0.042 0.038 0.036 0.0342 ... 0.029\n",
    "\n",
    "# struct: 16k[relu] -> 10[relu] \n",
    "epoch=4  LR=0.00001  loss= 0.055  0.046  0.0434  0.0411\n",
    "\n",
    "# struct: 16k[relu] -> 100[relu] \n",
    "epoch=2  LR=0.00001  loss=0.0021\n",
    "epoch=1  LR=0.00001  loss=0.017\n",
    "\n",
    "# struct: 8k[relu] -> 100[relu] \n",
    "epoch=1  LR=0.00001  loss=0.0212\n",
    "\n",
    "# struct: 8k[relu] -> 100[tanh] \n",
    "epoch=1  LR=0.00001  loss=0.0495\n",
    "\n",
    "\n",
    "\n"
   ]
  },
  {
   "cell_type": "code",
   "execution_count": 13,
   "id": "71ff0a42-1d61-4ec9-869d-fa7ad7a67ea0",
   "metadata": {},
   "outputs": [],
   "source": [
    "# SAVE THE MODEL\n",
    "autoencoder.save('chess_autoencoder.h5')"
   ]
  },
  {
   "cell_type": "code",
   "execution_count": null,
   "id": "18d50636-f70b-4e26-8ad0-8aea59b8b576",
   "metadata": {},
   "outputs": [],
   "source": [
    "autoencoder.predict(np.array([[-1., -0.667, 0., -0.5, -0.833, -1., -0.5, -0.333, -0.667, -0.167\n",
    ", -0.167, 0., 0., -0.167, -0.167, -0.167, -0.167, 0., 0., -0.333\n",
    ", 0., 0., 0., 0., 0., 0., 0., 0., -0.167, 0.\n",
    ", 0., 0., 0., 0., 0., 0., 0.167, 0., 0.167, 0.\n",
    ", 0., 0., 0., 0.167, 0., 0., 0., 0., 0., 0.167\n",
    ", 0.167, 0., 0., 0., 0., 0.167, 0.167, 0.667, 0.333, 0.5\n",
    ", 0.833, 1., 0.5, 0.333, 0.667]]))\n",
    "\n",
    "encoder = Model(inputs=input_layer, outputs=latent_layer)\n"
   ]
  },
  {
   "cell_type": "code",
   "execution_count": null,
   "id": "38134315-2445-42e8-8ee5-c9bbce140d6e",
   "metadata": {},
   "outputs": [],
   "source": [
    "latent_input = Input(shape=(1,))\n",
    "decoder_hidden = autoencoder.layers[-3](latent_input)  # The hidden decoder layer\n",
    "decoder_hidden2 = autoencoder.layers[-2](decoder_hidden)  # The hidden decoder layer\n",
    "decoder_output = autoencoder.layers[-1](decoder_hidden2)  # The output decoder layer\n",
    "decoder = Model(inputs=latent_input, outputs=decoder_output)\n"
   ]
  },
  {
   "cell_type": "code",
   "execution_count": null,
   "id": "8d89b7ed-ff32-44e3-8615-16849b1c24aa",
   "metadata": {},
   "outputs": [],
   "source": [
    "\n",
    "print(\"Input -> Latent Space -> Reconstructed Output\")\n",
    "for i, input_example in enumerate(input_data):\n",
    "    # Get latent space value\n",
    "    latent_values = encoder.predict(np.array([input_example]))\n",
    "    \n",
    "    # Get reconstructed output\n",
    "    reconstructed_output = decoder.predict(latent_values)\n",
    "    \n",
    "    # Print the result\n",
    "    print(f\"Input: {input_example}, Latent Space: {latent_values[0]}, Reconstructed Output: {np.round(reconstructed_output[0])}\")"
   ]
  },
  {
   "cell_type": "code",
   "execution_count": null,
   "id": "2471a515-1ecf-40b5-bff8-397adb1d5031",
   "metadata": {},
   "outputs": [],
   "source": [
    "latent_slider1 = widgets.FloatSlider(value=0.0, min=-1, max=1, step=0.004, description='Latent 1', layout=widgets.Layout(width='800px'))\n",
    "#latent_slider2 = widgets.FloatSlider(value=0.0, min=-2.0, max=2.0, step=0.01, description='Latent 2')\n"
   ]
  },
  {
   "cell_type": "code",
   "execution_count": null,
   "id": "5785aa3f-3111-47a4-bcbf-3fed7dee9bed",
   "metadata": {},
   "outputs": [],
   "source": [
    "output_display = widgets.Output()\n"
   ]
  },
  {
   "cell_type": "code",
   "execution_count": null,
   "id": "1909dfec-75d7-4c6f-b718-f76bad8c68ad",
   "metadata": {},
   "outputs": [],
   "source": [
    "def update_output(change=None):\n",
    "    #latent_values = np.array([[latent_slider1.value, latent_slider2.value]])\n",
    "    latent_values = np.array([[latent_slider1.value]])\n",
    "    predicted_output = decoder.predict(latent_values)\n",
    "    with output_display:\n",
    "        output_display.clear_output(wait=True)\n",
    "        print(f\"Latent space: {latent_values}\")\n",
    "        print(f\"Decoded output: {np.round(predicted_output, 2)}\")\n"
   ]
  },
  {
   "cell_type": "code",
   "execution_count": null,
   "id": "4478345d-0d24-4706-8d93-3dd6ed036301",
   "metadata": {},
   "outputs": [],
   "source": [
    "latent_slider1.observe(update_output, names='value')\n",
    "#latent_slider2.observe(update_output, names='value')"
   ]
  },
  {
   "cell_type": "code",
   "execution_count": null,
   "id": "d4c23686-9e53-4f7d-a9ed-e804b517de06",
   "metadata": {},
   "outputs": [],
   "source": [
    "display(latent_slider1, output_display)\n",
    "#display(latent_slider1, latent_slider2, output_display)\n"
   ]
  },
  {
   "cell_type": "code",
   "execution_count": null,
   "id": "d1e9210d-82c7-41ac-b352-ee1d9aace047",
   "metadata": {},
   "outputs": [],
   "source": [
    "update_output()\n"
   ]
  },
  {
   "cell_type": "code",
   "execution_count": null,
   "id": "1be0f956-a72b-4444-8628-d926dcf915c8",
   "metadata": {},
   "outputs": [],
   "source": []
  },
  {
   "cell_type": "code",
   "execution_count": null,
   "id": "3aa71867-f97c-493f-b165-d0e1157e90fd",
   "metadata": {},
   "outputs": [],
   "source": []
  },
  {
   "cell_type": "code",
   "execution_count": null,
   "id": "6a84477e-2a81-4006-bc8a-6198c1b7950a",
   "metadata": {},
   "outputs": [],
   "source": []
  }
 ],
 "metadata": {
  "kernelspec": {
   "display_name": "Python 3 (ipykernel)",
   "language": "python",
   "name": "python3"
  },
  "language_info": {
   "codemirror_mode": {
    "name": "ipython",
    "version": 3
   },
   "file_extension": ".py",
   "mimetype": "text/x-python",
   "name": "python",
   "nbconvert_exporter": "python",
   "pygments_lexer": "ipython3",
   "version": "3.10.4"
  }
 },
 "nbformat": 4,
 "nbformat_minor": 5
}
